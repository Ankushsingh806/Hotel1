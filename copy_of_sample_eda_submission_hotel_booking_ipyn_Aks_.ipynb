{
  "nbformat": 4,
  "nbformat_minor": 0,
  "metadata": {
    "colab": {
      "private_outputs": true,
      "provenance": [],
      "collapsed_sections": [
        "FJNUwmbgGyua",
        "w6K7xa23Elo4",
        "U2RJ9gkRphqQ",
        "1M8mcRywphqQ",
        "tgIPom80phqQ",
        "JMzcOPDDphqR",
        "x-EpHcCOp1ci",
        "X_VqEhTip1ck",
        "8zGJKyg5p1ck",
        "PVzmfK_Ep1ck",
        "n3dbpmDWp1ck",
        "ylSl6qgtp1ck",
        "ZWILFDl5p1ck",
        "M7G43BXep1ck",
        "Ag9LCva-p1cl",
        "E6MkPsBcp1cl",
        "2cELzS2fp1cl",
        "3MPXvC8up1cl",
        "NC_X3p0fY2L0",
        "UV0SzAkaZNRQ",
        "YPEH6qLeZNRQ",
        "q29F0dvdveiT",
        "EXh0U9oCveiU",
        "22aHeOlLveiV",
        "JcMwzZxoAimU",
        "8G2x9gOozGDZ",
        "gCX9965dhzqZ",
        "gIfDvo9L0UH2"
      ],
      "name": "copy-of-sample-eda-submission-hotel-booking.ipyn Aks.",
      "include_colab_link": true
    },
    "kernelspec": {
      "name": "python3",
      "display_name": "Python 3"
    },
    "language_info": {
      "name": "python"
    }
  },
  "cells": [
    {
      "cell_type": "markdown",
      "metadata": {
        "id": "view-in-github",
        "colab_type": "text"
      },
      "source": [
        "<a href=\"https://colab.research.google.com/github/Ankushsingh806/Hotel1/blob/main/copy_of_sample_eda_submission_hotel_booking_ipyn_Aks_.ipynb\" target=\"_parent\"><img src=\"https://colab.research.google.com/assets/colab-badge.svg\" alt=\"Open In Colab\"/></a>"
      ]
    },
    {
      "cell_type": "markdown",
      "source": [
        "# **Project Name**    - **Hotel booking EDA project**\n",
        "\n",
        "\n",
        "\n",
        "\n"
      ],
      "metadata": {
        "id": "vncDsAP0Gaoa"
      }
    },
    {
      "cell_type": "markdown",
      "source": [
        "##### **Project Type**    - EDA\n",
        "##### **Contribution**    - Individual\n",
        "\n"
      ],
      "metadata": {
        "id": "beRrZCGUAJYm"
      }
    },
    {
      "cell_type": "markdown",
      "source": [
        "# **Project Summary -**"
      ],
      "metadata": {
        "id": "FJNUwmbgGyua"
      }
    },
    {
      "cell_type": "markdown",
      "source": [
        "Write the summary here within 500-600 words."
      ],
      "metadata": {
        "id": "F6v_1wHtG2nS"
      }
    },
    {
      "cell_type": "markdown",
      "source": [
        "\n",
        " *Introduction to Hotel Booking EDA:*\n",
        "In this project, you'll be exploring a dataset related to hotel bookings. EDA is like a detective story where you investigate the data to uncover insights and trends. It's a crucial step in understanding the information before diving into more advanced analyses.\n",
        "\n",
        "*Key Steps in Hotel Booking EDA:*\n",
        "1. *Data Collection:* Gather the dataset containing information on hotel bookings.\n",
        "2. *Data Cleaning:* Remove or correct any errors, missing values, or inconsistencies in the data.\n",
        "3. *Exploratory Analysis:* Dive into the data to understand patterns, relationships, and trends.\n",
        "4. *Visualization:* Use graphs and charts to visually represent the data for better insights.\n",
        "5. *Statistical Analysis:* Apply statistical methods to draw meaningful conclusions from the data.\n",
        "\n",
        "*Types of Analysis in Hotel Booking EDA:*\n",
        "1. *Descriptive Analysis:* Summarize the data using measures like mean, median, and mode.\n",
        "2. *Correlation Analysis:* Explore relationships between variables in the dataset.\n",
        "3. *Predictive Analysis:* Use the data to make predictions or forecasts related to hotel bookings.\n",
        "4. *Trend Analysis:* Identify patterns or trends over time in booking data.\n",
        "\n",
        "*Tools and Techniques for Hotel Booking EDA:*\n",
        "1. *Programming Languages:* Utilize tools like Python or R for data analysis.\n",
        "2. *Data Visualization Libraries:* Use libraries like Matplotlib or Seaborn for creating visualizations.\n",
        "3. *Statistical Packages:* Employ packages like Pandas and NumPy for data manipulation and analysis.\n",
        "\n",
        "*Benefits of Hotel Booking EDA:*\n",
        "1. *Insight Generation:* Gain a deeper understanding of the hotel booking data.\n",
        "2. *Decision Making:* Use insights to make informed decisions related to hotel management.\n",
        "3. *Improving Services:* Identify areas for improvement based on the analysis.\n",
        "\n",
        "*Challenges in Hotel Booking EDA:*\n",
        "1. *Data Quality:* Dealing with incomplete or inaccurate data.\n",
        "2. *Complexity:* Analyzing large datasets can be time-consuming and challenging.\n",
        "3. *Interpreting Results:* Ensuring that the analysis leads to actionable insights.\n",
        "\n",
        "*Conclusion:*\n",
        "Hotel Booking EDA is a powerful tool for unraveling the mysteries hidden within the data related to hotel bookings. By following the steps, applying the right tools and techniques."
      ],
      "metadata": {
        "id": "7bi12SQIk7ga"
      }
    },
    {
      "cell_type": "markdown",
      "source": [
        "# **GitHub Link -**"
      ],
      "metadata": {
        "id": "w6K7xa23Elo4"
      }
    },
    {
      "cell_type": "markdown",
      "source": [
        "https://github.com/Ankushsingh806"
      ],
      "metadata": {
        "id": "h1o69JH3Eqqn"
      }
    },
    {
      "cell_type": "markdown",
      "source": [
        "# **Problem Statement**\n"
      ],
      "metadata": {
        "id": "yQaldy8SH6Dl"
      }
    },
    {
      "cell_type": "markdown",
      "source": [
        "**Write Problem Statement Here.**"
      ],
      "metadata": {
        "id": "DpeJGUA3kjGy"
      }
    },
    {
      "cell_type": "markdown",
      "source": [
        "*Problem Statement:*\n",
        "\"Investigate a dataset containing hotel booking information to uncover patterns, trends, and insights that can help optimize hotel management and improve customer experience. Conduct Exploratory Data Analysis (EDA) to understand booking patterns, customer preferences, peak booking times, and factors influencing booking cancellations. The goal is to extract actionable insights from the data to enhance decision-making processes and operational efficiency within the hotel industry.\"\n",
        "\n",
        "This problem statement sets the stage for your EDA project, guiding you to explore the dataset thoroughly to extract valuable information that can benefit the hotel management and customer satisfaction."
      ],
      "metadata": {
        "id": "0TH2AVpwoDMb"
      }
    },
    {
      "cell_type": "markdown",
      "source": [
        "#### **Define Your Business Objective?**"
      ],
      "metadata": {
        "id": "PH-0ReGfmX4f"
      }
    },
    {
      "cell_type": "markdown",
      "source": [
        "The project aims to gain interesting insight into customers behaviour when booking a hotel. The demand for different segment of customer may differ and forecasting become harder as it may required different model for different segment . These insights can guide hotels to adjust their customer strategies and make preparation for unknown."
      ],
      "metadata": {
        "id": "PhDvGCAqmjP1"
      }
    },
    {
      "cell_type": "markdown",
      "source": [
        "I"
      ],
      "metadata": {
        "id": "B4cS9a-goRz8"
      }
    },
    {
      "cell_type": "markdown",
      "source": [
        "# ***Let's Begin !***"
      ],
      "metadata": {
        "id": "O_i_v8NEhb9l"
      }
    },
    {
      "cell_type": "markdown",
      "source": [
        "## ***1. Know Your Data***"
      ],
      "metadata": {
        "id": "HhfV-JJviCcP"
      }
    },
    {
      "cell_type": "markdown",
      "source": [
        "### Import Libraries"
      ],
      "metadata": {
        "id": "Y3lxredqlCYt"
      }
    },
    {
      "cell_type": "code",
      "source": [
        "# Import Libraries\n",
        "import numpy as np\n",
        "import pandas as pd\n",
        "from numpy import math\n",
        "from numpy import loadtxt\n",
        "import seaborn as sns\n",
        "import matplotlib.pyplot as plt\n",
        "%matplotlib inline\n",
        "\n",
        "\n"
      ],
      "metadata": {
        "id": "M8Vqi-pPk-HR"
      },
      "execution_count": null,
      "outputs": []
    },
    {
      "cell_type": "markdown",
      "source": [
        "### Dataset Loading"
      ],
      "metadata": {
        "id": "3RnN4peoiCZX"
      }
    },
    {
      "cell_type": "code",
      "source": [
        "# Load Dataset\n",
        "dataset = pd.read_excel('/content/drive/MyDrive/Hotel Bookings.xlsx')\n"
      ],
      "metadata": {
        "id": "4CkvbW_SlZ_R"
      },
      "execution_count": null,
      "outputs": []
    },
    {
      "cell_type": "markdown",
      "source": [
        "### Dataset First View"
      ],
      "metadata": {
        "id": "x71ZqKXriCWQ"
      }
    },
    {
      "cell_type": "code",
      "source": [
        "# Dataset First Look\n",
        "dataset.head()"
      ],
      "metadata": {
        "id": "LWNFOSvLl09H"
      },
      "execution_count": null,
      "outputs": []
    },
    {
      "cell_type": "markdown",
      "source": [
        "### Dataset Rows & Columns count"
      ],
      "metadata": {
        "id": "7hBIi_osiCS2"
      }
    },
    {
      "cell_type": "code",
      "source": [
        "# Dataset Rows & Columns count\n",
        "dataset.shape"
      ],
      "metadata": {
        "id": "Kllu7SJgmLij"
      },
      "execution_count": null,
      "outputs": []
    },
    {
      "cell_type": "markdown",
      "source": [
        "### Dataset Information"
      ],
      "metadata": {
        "id": "JlHwYmJAmNHm"
      }
    },
    {
      "cell_type": "code",
      "source": [
        "# Dataset Info\n",
        "dataset.info()"
      ],
      "metadata": {
        "id": "e9hRXRi6meOf"
      },
      "execution_count": null,
      "outputs": []
    },
    {
      "cell_type": "markdown",
      "source": [
        "#### Duplicate Values"
      ],
      "metadata": {
        "id": "35m5QtbWiB9F"
      }
    },
    {
      "cell_type": "code",
      "source": [
        "dataset.duplicated().sum()"
      ],
      "metadata": {
        "id": "Exzksn4zB2Pv"
      },
      "execution_count": null,
      "outputs": []
    },
    {
      "cell_type": "code",
      "source": [
        "# Dataset Duplicate Value Count\n",
        "len(dataset[dataset.duplicated()])"
      ],
      "metadata": {
        "id": "1sLdpKYkmox0"
      },
      "execution_count": null,
      "outputs": []
    },
    {
      "cell_type": "markdown",
      "source": [
        "#### Missing Values/Null Values"
      ],
      "metadata": {
        "id": "PoPl-ycgm1ru"
      }
    },
    {
      "cell_type": "code",
      "source": [
        "# Missing Values/Null Values Count\n",
        "print(dataset.isnull().sum())"
      ],
      "metadata": {
        "id": "GgHWkxvamxVg"
      },
      "execution_count": null,
      "outputs": []
    },
    {
      "cell_type": "code",
      "source": [
        "dataset.drop(['company', 'agent'], axis=1, inplace=True)\n",
        "dataset.dropna(inplace=True)\n",
        "\n"
      ],
      "metadata": {
        "id": "Z-SrAOGBsjMp"
      },
      "execution_count": null,
      "outputs": []
    },
    {
      "cell_type": "markdown",
      "source": [
        "country has 488 rows with the NAN values. 488 rows out of 112593 is negligible hence we just remove"
      ],
      "metadata": {
        "id": "hWjIMlQr-eEi"
      }
    },
    {
      "cell_type": "code",
      "source": [
        "dataset.isnull().sum()"
      ],
      "metadata": {
        "id": "KOT0jtyzueT-"
      },
      "execution_count": null,
      "outputs": []
    },
    {
      "cell_type": "code",
      "source": [
        "# Visualizing the missing values\n",
        "plt.figure(figsize=(10,10))\n",
        "sns.heatmap(dataset.isnull(), cbar=False, yticklabels=False, cmap = 'viridis')\n",
        "# Correct the typo in the following line\n",
        "plt.xlabel(\"Name of columns\", fontsize = 15)\n",
        "plt.title(\"Missing value in dataset in column\", fontsize = 20)\n",
        "plt.show()"
      ],
      "metadata": {
        "id": "3q5wnI3om9sJ"
      },
      "execution_count": null,
      "outputs": []
    },
    {
      "cell_type": "markdown",
      "source": [
        "### What did you know about your dataset?"
      ],
      "metadata": {
        "id": "H0kj-8xxnORC"
      }
    },
    {
      "cell_type": "markdown",
      "source": [
        "In a data set EDA (Exploratory Data Analysis) hotel booking project, we analyze a data set to understand its patterns, trends, and insights. Typically, this project involves using a hotel booking data set that includes information such as customers, booking dates, room types, cancellations, and pricing.\n",
        "\n",
        "During this project, we explore the data set, handle missing values, extract insights through data visualization, and identify patterns using statistical analysis. The main goal of EDA is to understand the characteristics of the data set so that we can plan the next steps of the project. If you need more specific information about an EDA hotel booking project"
      ],
      "metadata": {
        "id": "gfoNAAC-nUe_"
      }
    },
    {
      "cell_type": "markdown",
      "source": [
        "## ***2. Understanding Your Variables***"
      ],
      "metadata": {
        "id": "nA9Y7ga8ng1Z"
      }
    },
    {
      "cell_type": "code",
      "source": [
        "# Dataset Columns\n",
        "dataset.columns"
      ],
      "metadata": {
        "id": "j7xfkqrt5Ag5"
      },
      "execution_count": null,
      "outputs": []
    },
    {
      "cell_type": "code",
      "source": [
        "dataset.describe()"
      ],
      "metadata": {
        "id": "RCiauSR8zTA7"
      },
      "execution_count": null,
      "outputs": []
    },
    {
      "cell_type": "code",
      "source": [
        "# Dataset Describe\n",
        "dataset.describe(include = 'object')"
      ],
      "metadata": {
        "id": "DnOaZdaE5Q5t"
      },
      "execution_count": null,
      "outputs": []
    },
    {
      "cell_type": "code",
      "source": [
        "for col in dataset.describe(include = 'all').columns:\n",
        "    print(col)\n",
        "    print(dataset[col].unique())  # Use the 'unique' method instead of 'Unique' attribute\n",
        "    print('.')"
      ],
      "metadata": {
        "id": "DCgpztc3xdaS"
      },
      "execution_count": null,
      "outputs": []
    },
    {
      "cell_type": "markdown",
      "source": [
        "### Variables Description"
      ],
      "metadata": {
        "id": "PBTbrJXOngz2"
      }
    },
    {
      "cell_type": "markdown",
      "source": [
        "**Guest information**: Name,Age,Gender,Contact information               .\n"
      ],
      "metadata": {
        "id": "aJV4KIxSnxay"
      }
    },
    {
      "cell_type": "markdown",
      "source": [
        "**Booking details**: check-in date, check-out Date, Number of Nights, Room Type, Number of guests, Bookong source(online,phone,Walk-in)"
      ],
      "metadata": {
        "id": "UmUXZA7v2LOl"
      }
    },
    {
      "cell_type": "markdown",
      "source": [
        "**Payment information** : Total cost , Payment method, Deposit Amount"
      ],
      "metadata": {
        "id": "1ECDH-IC1Yd4"
      }
    },
    {
      "cell_type": "markdown",
      "source": [
        "**additional services\\**:\n",
        "Breakfast,\n",
        "parking,\n",
        "Wifi,\n",
        "Gym Access"
      ],
      "metadata": {
        "id": "5OGSA-7a1q8g"
      }
    },
    {
      "cell_type": "markdown",
      "source": [
        "**arrival_date_year**  : year of arrival date\n",
        "\n",
        "  **arrival_date_month** : Month of arrival date.                           \n",
        "  **Hotel Location**: Location of the hotel (e.g., city, neighborhood).\n",
        "  **Cancellation Policy**: Details about the hotel's cancellation policy.\n",
        "   *\n",
        "\n"
      ],
      "metadata": {
        "id": "iBBPdMlc7cOC"
      }
    },
    {
      "cell_type": "markdown",
      "source": [
        "Hotel Facilities: Description of the facilities available at the hotel (e.g., pool, gym, restaurant)."
      ],
      "metadata": {
        "id": "KCWpu6e6SJx-"
      }
    },
    {
      "cell_type": "code",
      "source": [],
      "metadata": {
        "id": "tuPfYNkRR-wN"
      },
      "execution_count": null,
      "outputs": []
    },
    {
      "cell_type": "markdown",
      "source": [],
      "metadata": {
        "id": "WBqlhCIkR9Tw"
      }
    },
    {
      "cell_type": "markdown",
      "source": [
        "### Check Unique Values for each variable."
      ],
      "metadata": {
        "id": "u3PMJOP6ngxN"
      }
    },
    {
      "cell_type": "code",
      "source": [
        "# Check Unique Values for each variable.\n",
        "for i in dataset.columns.tolist():\n",
        "  print(\"No. of unique values in \",i,\"is\",dataset[i].nunique(),\".\")"
      ],
      "metadata": {
        "id": "zms12Yq5n-jE"
      },
      "execution_count": null,
      "outputs": []
    },
    {
      "cell_type": "markdown",
      "source": [
        "## 3. ***Data Wrangling***"
      ],
      "metadata": {
        "id": "dauF4eBmngu3"
      }
    },
    {
      "cell_type": "markdown",
      "source": [
        "### Data Wrangling Code"
      ],
      "metadata": {
        "id": "bKJF3rekwFvQ"
      }
    },
    {
      "cell_type": "code",
      "source": [
        "# Write your code to make your dataset analysis ready.\n",
        "dataset['market_segment'].value_counts()\n",
        "\n",
        "\n",
        "\n"
      ],
      "metadata": {
        "id": "wk-9a2fpoLcV"
      },
      "execution_count": null,
      "outputs": []
    },
    {
      "cell_type": "code",
      "source": [
        "dataset['market_segment'].value_counts(normalize = True)"
      ],
      "metadata": {
        "id": "ZWhVvC6g6NCS"
      },
      "execution_count": null,
      "outputs": []
    },
    {
      "cell_type": "code",
      "source": [
        "dataset['market_segment'].value_counts()"
      ],
      "metadata": {
        "id": "s3BYOjxcWLb9"
      },
      "execution_count": null,
      "outputs": []
    },
    {
      "cell_type": "markdown",
      "source": [
        "### What all manipulations have you done and insights you found?"
      ],
      "metadata": {
        "id": "MSa1f5Uengrz"
      }
    },
    {
      "cell_type": "markdown",
      "source": [
        "Answer Here."
      ],
      "metadata": {
        "id": "LbyXE7I1olp8"
      }
    },
    {
      "cell_type": "markdown",
      "source": [
        "## ***4. Data Vizualization, Storytelling & Experimenting with charts : Understand the relationships between variables***"
      ],
      "metadata": {
        "id": "GF8Ens_Soomf"
      }
    },
    {
      "cell_type": "markdown",
      "source": [
        "#### Chart - 1"
      ],
      "metadata": {
        "id": "0wOQAZs5pc--"
      }
    },
    {
      "cell_type": "code",
      "source": [
        "# Chart - 1 visualization code\n",
        "cancelled_perc = dataset['is_canceled'].value_counts(normalize = True)\n",
        "print(cancelled_perc)\n",
        "\n",
        "plt.figure(figsize = (5,4))\n",
        "plt.title('Reservation status count')\n",
        "plt.bar(['Not canceled','canceled'], dataset['is_canceled'].value_counts(), edgecolor = 'b', width = 0.6)\n",
        "plt.show()\n"
      ],
      "metadata": {
        "id": "7v_ESjsspbW7"
      },
      "execution_count": null,
      "outputs": []
    },
    {
      "cell_type": "markdown",
      "source": [
        "##### 1. Why did you pick the specific chart?"
      ],
      "metadata": {
        "id": "K5QZ13OEpz2H"
      }
    },
    {
      "cell_type": "markdown",
      "source": [
        "In this, data of cancellation and hotel booking is coming out which shows a good option like bar graph"
      ],
      "metadata": {
        "id": "XESiWehPqBRc"
      }
    },
    {
      "cell_type": "markdown",
      "source": [
        "##### 2. What is/are the insight(s) found from the chart?"
      ],
      "metadata": {
        "id": "lQ7QKXXCp7Bj"
      }
    },
    {
      "cell_type": "markdown",
      "source": [
        "The accompanying bar graphshows the percentage of reservations that are canceled and those that are not. It is obvious that there are still a significantnumber of reservation, that have been canceled. There are still 37% of clients who canceled their reservation, which has a significant impact on the hotels earnings."
      ],
      "metadata": {
        "id": "C_j1G7yiqdRP"
      }
    },
    {
      "cell_type": "markdown",
      "source": [
        "##### 3. Will the gained insights help creating a positive business impact?\n",
        "Are there any insights that lead to negative growth? Justify with specific reason."
      ],
      "metadata": {
        "id": "448CDAPjqfQr"
      }
    },
    {
      "cell_type": "markdown",
      "source": [
        "Answer Here"
      ],
      "metadata": {
        "id": "3cspy4FjqxJW"
      }
    },
    {
      "cell_type": "markdown",
      "source": [
        "#### Chart - 2"
      ],
      "metadata": {
        "id": "KSlN3yHqYklG"
      }
    },
    {
      "cell_type": "code",
      "source": [
        "# Chart - 2 visualization code\n",
        "\n",
        "\n",
        "plt.figure(figsize = (8,4))\n",
        "ax1 = sns.countplot(x='hotel', hue='is_canceled', data=dataset, palette='Blues')\n",
        "legend_labels, _ = ax1.get_legend_handles_labels()\n",
        "ax1.legend(bbox_to_anchor=(1, 1))\n",
        "plt.title('Reservation status in different hotels', size=22)\n",
        "plt.xlabel('Hotel')\n",
        "plt.ylabel('Number of reservations')\n",
        "plt.legend(['Not canceled', 'Canceled'])\n",
        "plt.show()\n",
        "\n"
      ],
      "metadata": {
        "id": "R4YgtaqtYklH"
      },
      "execution_count": null,
      "outputs": []
    },
    {
      "cell_type": "code",
      "source": [
        "resort_hotel = dataset[dataset['hotel'] == 'Resort Hotel']\n",
        "resort_hotel['is_canceled'].value_counts(normalize=True)"
      ],
      "metadata": {
        "id": "XNE5p4b1JK1A"
      },
      "execution_count": null,
      "outputs": []
    },
    {
      "cell_type": "code",
      "source": [
        "city_hotel = dataset[dataset['hotel'] == 'City Hotel']\n",
        "city_hotel['is_canceled'].value_counts(normalize = True)"
      ],
      "metadata": {
        "id": "LQrv0WXQLo7F"
      },
      "execution_count": null,
      "outputs": []
    },
    {
      "cell_type": "code",
      "source": [
        "resort_hotel = resort_hotel.groupby('reservation_status_date')[['adr']].mean()\n",
        "city_hotel = city_hotel.groupby('reservation_status_date')[['adr']].mean()"
      ],
      "metadata": {
        "id": "cxvWxir-NGtG"
      },
      "execution_count": null,
      "outputs": []
    },
    {
      "cell_type": "markdown",
      "source": [
        "##### 1. Why did you pick the specific chart?"
      ],
      "metadata": {
        "id": "t6dVpIINYklI"
      }
    },
    {
      "cell_type": "markdown",
      "source": [
        "there were   hotel and resort booking and cancelled data to campare and bar graph are used to compare thing different groupsthat is why i used this chart"
      ],
      "metadata": {
        "id": "5aaW0BYyYklI"
      }
    },
    {
      "cell_type": "markdown",
      "source": [
        "##### 2. What is/are the insight(s) found from the chart?"
      ],
      "metadata": {
        "id": "ijmpgYnKYklI"
      }
    },
    {
      "cell_type": "markdown",
      "source": [
        "in comparison to resort hotels, city hotels have more bookings. its possible that resort hotels are more expensive than those cities"
      ],
      "metadata": {
        "id": "PSx9atu2YklI"
      }
    },
    {
      "cell_type": "markdown",
      "source": [
        "##### 3. Will the gained insights help creating a positive business impact?\n",
        "Are there any insights that lead to negative growth? Justify with specific reason."
      ],
      "metadata": {
        "id": "-JiQyfWJYklI"
      }
    },
    {
      "cell_type": "markdown",
      "source": [
        "Answer Here"
      ],
      "metadata": {
        "id": "BcBbebzrYklV"
      }
    },
    {
      "cell_type": "markdown",
      "source": [
        "#### Chart - 3"
      ],
      "metadata": {
        "id": "EM7whBJCYoAo"
      }
    },
    {
      "cell_type": "code",
      "source": [
        "# Chart - 3 visualization code\n",
        "plt.figure(figsize=(20, 8))\n",
        "plt.title('Average Daily Rate in City and Resort Hotels', fontsize=30)\n",
        "\n",
        "# Assuming resort_hotel and city_hotel are Series with dates as index\n",
        "plt.plot(resort_hotel.index, resort_hotel, label='Resort Hotel')\n",
        "plt.plot(city_hotel.index, city_hotel, label='City Hotel')\n",
        "\n",
        "plt.legend(fontsize=20)\n",
        "plt.xlabel('Date', fontsize=20)\n",
        "plt.ylabel('Average Daily Rate', fontsize=20)\n",
        "plt.xticks(fontsize=16)\n",
        "plt.yticks(fontsize=16)\n",
        "plt.show()\n",
        "\n"
      ],
      "metadata": {
        "id": "t6GMdE67YoAp"
      },
      "execution_count": null,
      "outputs": []
    },
    {
      "cell_type": "markdown",
      "source": [
        "##### 1. Why did you pick the specific chart?"
      ],
      "metadata": {
        "id": "fge-S5ZAYoAp"
      }
    },
    {
      "cell_type": "markdown",
      "source": [
        "Answer Here."
      ],
      "metadata": {
        "id": "5dBItgRVYoAp"
      }
    },
    {
      "cell_type": "markdown",
      "source": [
        "##### 2. What is/are the insight(s) found from the chart?"
      ],
      "metadata": {
        "id": "85gYPyotYoAp"
      }
    },
    {
      "cell_type": "markdown",
      "source": [
        "The line graph above shows that. on certain days, the average daily rate for a city hotel is less than that of a resort hotel and on other days. It is even less. it goes without saying that weekends and holidays may see a rise in resort rates"
      ],
      "metadata": {
        "id": "4jstXR6OYoAp"
      }
    },
    {
      "cell_type": "markdown",
      "source": [
        "##### 3. Will the gained insights help creating a positive business impact?\n",
        "Are there any insights that lead to negative growth? Justify with specific reason."
      ],
      "metadata": {
        "id": "RoGjAbkUYoAp"
      }
    },
    {
      "cell_type": "markdown",
      "source": [],
      "metadata": {
        "id": "zfJ8IqMcYoAp"
      }
    },
    {
      "cell_type": "markdown",
      "source": [
        "#### Chart - 4"
      ],
      "metadata": {
        "id": "4Of9eVA-YrdM"
      }
    },
    {
      "cell_type": "code",
      "source": [
        "dataset['month'] = dataset['reservation_status_date'].dt.month\n",
        "plt.figure(figsize = (16,8))\n",
        "ax1 = sns.countplot(x = 'month', hue = 'is_canceled', data = dataset, palette = 'bright')\n",
        "legend_labels,_=ax1.get_legend_handles_labels()\n",
        "ax1.legend(bbox_to_anchor=(1,1))\n",
        "plt.title('Reservation status per month', size = 20)\n",
        "plt.xlabel('month') # Changed xlable to xlabel\n",
        "plt.ylabel('number of reservations')\n",
        "plt.legend(['not canceled', 'canceled'])\n",
        "plt.show()"
      ],
      "metadata": {
        "id": "vkal_8xIXDW3"
      },
      "execution_count": null,
      "outputs": []
    },
    {
      "cell_type": "markdown",
      "source": [
        "##### 1. Why did you pick the specific chart?"
      ],
      "metadata": {
        "id": "iky9q4vBYrdO"
      }
    },
    {
      "cell_type": "markdown",
      "source": [
        "i had to campare values across the months and for that bar chart was one of the best choice"
      ],
      "metadata": {
        "id": "aJRCwT6DYrdO"
      }
    },
    {
      "cell_type": "markdown",
      "source": [
        "##### 2. What is/are the insight(s) found from the chart?"
      ],
      "metadata": {
        "id": "F6T5p64dYrdO"
      }
    },
    {
      "cell_type": "markdown",
      "source": [
        "we have developed the grouped bar graph to analyze the months with the highest and lowest reservation levels according to reservation status. As can be seen. both the number of confirmed reservation and the number of canceled reservations are largest in the month of august. whereas january is the month with the most canceled reservation"
      ],
      "metadata": {
        "id": "Xx8WAJvtYrdO"
      }
    },
    {
      "cell_type": "markdown",
      "source": [
        "##### 3. Will the gained insights help creating a positive business impact?\n",
        "Are there any insights that lead to negative growth? Justify with specific reason."
      ],
      "metadata": {
        "id": "y-Ehk30pYrdP"
      }
    },
    {
      "cell_type": "markdown",
      "source": [
        "Answer Here"
      ],
      "metadata": {
        "id": "jLNxxz7MYrdP"
      }
    },
    {
      "cell_type": "code",
      "source": [
        "# Chart - 5 visualization code\n",
        "plt.figure(figsize=(15, 8))\n",
        "plt.title('ADR per month', fontsize=30)\n",
        "sns.barplot(x='arrival_date_month', y='adr', data=dataset[dataset['is_canceled'] == 1])\n",
        "plt.show()\n"
      ],
      "metadata": {
        "id": "TIJwrbroYuh3"
      },
      "execution_count": null,
      "outputs": []
    },
    {
      "cell_type": "markdown",
      "source": [
        "##### 1. Why did you pick the specific chart?"
      ],
      "metadata": {
        "id": "QHF8YVU7Yuh3"
      }
    },
    {
      "cell_type": "markdown",
      "source": [
        "Answer Here."
      ],
      "metadata": {
        "id": "dcxuIMRPYuh3"
      }
    },
    {
      "cell_type": "markdown",
      "source": [
        "##### 2. What is/are the insight(s) found from the chart?"
      ],
      "metadata": {
        "id": "GwzvFGzlYuh3"
      }
    },
    {
      "cell_type": "markdown",
      "source": [
        "Answer Here"
      ],
      "metadata": {
        "id": "uyqkiB8YYuh3"
      }
    },
    {
      "cell_type": "markdown",
      "source": [
        "##### 3. Will the gained insights help creating a positive business impact?\n",
        "Are there any insights that lead to negative growth? Justify with specific reason."
      ],
      "metadata": {
        "id": "qYpmQ266Yuh3"
      }
    },
    {
      "cell_type": "markdown",
      "source": [
        "Answer Here"
      ],
      "metadata": {
        "id": "_WtzZ_hCYuh4"
      }
    },
    {
      "cell_type": "markdown",
      "source": [
        "#### Chart - 6"
      ],
      "metadata": {
        "id": "OH-pJp9IphqM"
      }
    },
    {
      "cell_type": "code",
      "source": [
        "# Chart - 6 visualization code\n",
        "cancelled_data = dataset[dataset['is_canceled']==1]\n",
        "top_10_country = cancelled_data['country'].value_counts(ascending = True)[:10]\n",
        "plt.figure(figsize = (8,8))\n",
        "plt.title('Top 10 countries with reservation canceled')\n",
        "plt.pie(top_10_country, autopct= '%.2f', labels = top_10_country.index)\n",
        "plt.show()"
      ],
      "metadata": {
        "id": "kuRf4wtuphqN"
      },
      "execution_count": null,
      "outputs": []
    },
    {
      "cell_type": "markdown",
      "source": [
        "##### 1. Why did you pick the specific chart?"
      ],
      "metadata": {
        "id": "bbFf2-_FphqN"
      }
    },
    {
      "cell_type": "markdown",
      "source": [
        "i had to show a part-to-a-whole relationship and percentage of both values and here pie chart was a good option to show segmented values."
      ],
      "metadata": {
        "id": "loh7H2nzphqN"
      }
    },
    {
      "cell_type": "markdown",
      "source": [
        "##### 2. What is/are the insight(s) found from the chart?"
      ],
      "metadata": {
        "id": "_ouA3fa0phqN"
      }
    },
    {
      "cell_type": "markdown",
      "source": [
        "This bar graph demonstrates that cancellations are most common when price are greatest and are least  common when they are lowest. Therefore,the cost of the accommodation is solely responsible for the cancelation.\n",
        "\n",
        "\n",
        "Now, lets see which country has the Average reservation canceled. The all top 10 country is equally number of cancellation"
      ],
      "metadata": {
        "id": "VECbqPI7phqN"
      }
    },
    {
      "cell_type": "markdown",
      "source": [
        "##### 3. Will the gained insights help creating a positive business impact?\n",
        "Are there any insights that lead to negative growth? Justify with specific reason."
      ],
      "metadata": {
        "id": "Seke61FWphqN"
      }
    },
    {
      "cell_type": "markdown",
      "source": [
        "Answer Here"
      ],
      "metadata": {
        "id": "DW4_bGpfphqN"
      }
    },
    {
      "cell_type": "markdown",
      "source": [
        "#### Chart - 7"
      ],
      "metadata": {
        "id": "PIIx-8_IphqN"
      }
    },
    {
      "cell_type": "code",
      "source": [
        "# Chart - 7 visualization code\n",
        "dataset['market_segment'].value_counts()"
      ],
      "metadata": {
        "id": "lqAIGUfyphqO"
      },
      "execution_count": null,
      "outputs": []
    },
    {
      "cell_type": "code",
      "source": [
        "# ADR for canceled bookings\n",
        "adr_canceled = dataset[dataset['is_canceled'] == 1]['adr'].mean()\n",
        "\n",
        "# ADR for non-canceled bookings\n",
        "adr_non_canceled = dataset[dataset['is_canceled'] == 0]['adr'].mean()\n"
      ],
      "metadata": {
        "id": "NYPyd9S5l0ui"
      },
      "execution_count": null,
      "outputs": []
    },
    {
      "cell_type": "code",
      "source": [
        "if adr_canceled > adr_non_canceled:\n",
        "    print(\"The average daily rate for canceled bookings is higher.\")\n",
        "elif adr_canceled < adr_non_canceled:\n",
        "    print(\"The average daily rate for non-canceled bookings is higher.\")\n",
        "else:\n",
        "    print(\"The average daily rate for canceled and non-canceled bookings is the same.\")\n"
      ],
      "metadata": {
        "id": "HnKbAZ87l4u2"
      },
      "execution_count": null,
      "outputs": []
    },
    {
      "cell_type": "code",
      "source": [
        "\n",
        "plt.figure(figsize=(10, 6))\n",
        "plt.hist(dataset[dataset['is_canceled'] == 1]['adr'], bins=30, alpha=0.5, label='Canceled Bookings')\n",
        "plt.hist(dataset[dataset['is_canceled'] == 0]['adr'], bins=30, alpha=0.5, label='Non-Canceled Bookings')\n",
        "plt.xlabel('ADR')\n",
        "plt.ylabel('Frequency')\n",
        "plt.title('Distribution of ADR for Canceled and Non-Canceled Bookings')\n",
        "plt.legend()\n",
        "plt.show()\n"
      ],
      "metadata": {
        "id": "qVm5R18Vj3xF"
      },
      "execution_count": null,
      "outputs": []
    },
    {
      "cell_type": "code",
      "source": [
        "cancelled_df_adr = cancelled_data.groupby('reservation_status_date')['adr'].mean()\n",
        "cancelled_df_adr = cancelled_df_adr.reset_index()\n",
        "cancelled_df_adr.head()\n",
        "\n",
        "# Create the DataFrame for non-canceled bookings\n",
        "not_canceled_data = dataset[dataset['is_canceled'] == 0]\n",
        "\n",
        "# Group by reservation status date and calculate the mean ADR for non-canceled bookings\n",
        "not_canceled_df_adr = not_canceled_data.groupby('reservation_status_date')['adr'].mean()\n",
        "\n",
        "# Reset the index of the DataFrame\n",
        "not_canceled_df_adr = not_canceled_df_adr.reset_index()\n",
        "\n",
        "# Print the first five rows of the DataFrame\n",
        "not_canceled_df_adr.head()\n",
        "\n",
        "\n",
        "plt.figure(figsize = (20,8))\n",
        "plt.title('Average Daily Rate')\n",
        "plt.plot(not_canceled_df_adr['reservation_status_date'], not_canceled_df_adr['adr'], label = 'not_cancelled')\n",
        "plt.plot(cancelled_df_adr['reservation_status_date'], cancelled_df_adr['adr'], label = 'cancelled')\n",
        "plt.legend(fontsize=20)\n",
        "plt.show()"
      ],
      "metadata": {
        "id": "TNaEr38pmE7O"
      },
      "execution_count": null,
      "outputs": []
    },
    {
      "cell_type": "markdown",
      "source": [
        "##### 1. Why did you pick the specific chart?"
      ],
      "metadata": {
        "id": "t27r6nlMphqO"
      }
    },
    {
      "cell_type": "markdown",
      "source": [
        "he x-axis. Histograms are most commonly used to depict what a set of data looks like in aggregate."
      ],
      "metadata": {
        "id": "iv6ro40sphqO"
      }
    },
    {
      "cell_type": "markdown",
      "source": [
        "##### 2. What is/are the insight(s) found from the chart?"
      ],
      "metadata": {
        "id": "r2jJGEOYphqO"
      }
    },
    {
      "cell_type": "markdown",
      "source": [
        "As seen in the graph, reservations are canceled When the average daily rate is higher than when it is not canceled. it clearly proves all the above analysis , that the higher price leads to higher cancellation."
      ],
      "metadata": {
        "id": "Po6ZPi4hphqO"
      }
    },
    {
      "cell_type": "markdown",
      "source": [
        "##### 3. Will the gained insights help creating a positive business impact?\n",
        "Are there any insights that lead to negative growth? Justify with specific reason."
      ],
      "metadata": {
        "id": "b0JNsNcRphqO"
      }
    },
    {
      "cell_type": "markdown",
      "source": [
        "Answer Here"
      ],
      "metadata": {
        "id": "xvSq8iUTphqO"
      }
    },
    {
      "cell_type": "markdown",
      "source": [
        "#### Chart - 8"
      ],
      "metadata": {
        "id": "BZR9WyysphqO"
      }
    },
    {
      "cell_type": "markdown",
      "source": [
        "From where the most guests are coming"
      ],
      "metadata": {
        "id": "AEKr6or1R0H1"
      }
    },
    {
      "cell_type": "code",
      "source": [
        "# Chart - 8 visualization code\n",
        "sns.barplot (y= list(dataset.country.value_counts().head (10)), x= list(dataset.country.value_counts().head(10).index))\n"
      ],
      "metadata": {
        "id": "TdPTWpAVphqO"
      },
      "execution_count": null,
      "outputs": []
    },
    {
      "cell_type": "code",
      "source": [
        "# plotting graph again with values\n",
        "ax= dataset.country.value_counts().head(10).plot (kind= 'bar');\n",
        "for p in ax.patches:\n",
        "    ax.annotate(str(p.get_height()), (p.get_x() * 1.005, p.get_height() * 1.005))"
      ],
      "metadata": {
        "id": "Rb9TMQD6SNzR"
      },
      "execution_count": null,
      "outputs": []
    },
    {
      "cell_type": "markdown",
      "source": [
        "##### 1. Why did you pick the specific chart?"
      ],
      "metadata": {
        "id": "jj7wYXLtphqO"
      }
    },
    {
      "cell_type": "markdown",
      "source": [
        "Here i compared different values that is why i used bar chart"
      ],
      "metadata": {
        "id": "Ob8u6rCTphqO"
      }
    },
    {
      "cell_type": "markdown",
      "source": [
        "##### 2. What is/are the insight(s) found from the chart?"
      ],
      "metadata": {
        "id": "eZrbJ2SmphqO"
      }
    },
    {
      "cell_type": "markdown",
      "source": [
        "from the above chart i found out that most guests come from PRT(portugal)"
      ],
      "metadata": {
        "id": "mZtgC_hjphqO"
      }
    },
    {
      "cell_type": "markdown",
      "source": [
        "##### 3. Will the gained insights help creating a positive business impact?\n",
        "Are there any insights that lead to negative growth? Justify with specific reason."
      ],
      "metadata": {
        "id": "rFu4xreNphqO"
      }
    },
    {
      "cell_type": "markdown",
      "source": [
        "There is no negative insight. After knowing that most of the guests come from portugal Hotels can Add more portugal Hotels can add more portugal cousiness in their menu to make guests order more food"
      ],
      "metadata": {
        "id": "ey_0qi68phqO"
      }
    },
    {
      "cell_type": "markdown",
      "source": [
        "#### Chart - 9"
      ],
      "metadata": {
        "id": "YJ55k-q6phqO"
      }
    },
    {
      "cell_type": "markdown",
      "source": [
        "Market segment wise bookings"
      ],
      "metadata": {
        "id": "k7rQGbtvS4JD"
      }
    },
    {
      "cell_type": "code",
      "source": [
        "# Chart - 9 visualization code\n",
        "import matplotlib.pyplot as plt\n",
        "import seaborn as sns\n",
        "\n",
        "plt.title(\"Segments wise booking\")\n",
        "ax = sns.countplot(x = \"market_segment\", data = dataset)\n",
        "plt.xticks(rotation = 90)\n",
        "plt.show()"
      ],
      "metadata": {
        "id": "B2aS4O1ophqO"
      },
      "execution_count": null,
      "outputs": []
    },
    {
      "cell_type": "markdown",
      "source": [
        "##### 1. Why did you pick the specific chart?"
      ],
      "metadata": {
        "id": "gCFgpxoyphqP"
      }
    },
    {
      "cell_type": "markdown",
      "source": [
        "A bar plot shows catergorical data as rectangular bars with the height of bar propotional to the value they represent"
      ],
      "metadata": {
        "id": "TVxDimi2phqP"
      }
    },
    {
      "cell_type": "markdown",
      "source": [
        "##### 2. What is/are the insight(s) found from the chart?"
      ],
      "metadata": {
        "id": "OVtJsKN_phqQ"
      }
    },
    {
      "cell_type": "markdown",
      "source": [
        "Inference: Indirect bookings through online and offline travel agents are higher compared to direct bookings and same is the case with group bookings which are also high.Answer Here"
      ],
      "metadata": {
        "id": "ngGi97qjphqQ"
      }
    },
    {
      "cell_type": "markdown",
      "source": [
        "##### 3. Will the gained insights help creating a positive business impact?\n",
        "Are there any insights that lead to negative growth? Justify with specific reason."
      ],
      "metadata": {
        "id": "lssrdh5qphqQ"
      }
    },
    {
      "cell_type": "markdown",
      "source": [
        "There is no negative growth Hotel should come up with some great idea to increase share among other market segments to increase the revenue"
      ],
      "metadata": {
        "id": "tBpY5ekJphqQ"
      }
    },
    {
      "cell_type": "markdown",
      "source": [
        "#### Chart - 10"
      ],
      "metadata": {
        "id": "U2RJ9gkRphqQ"
      }
    },
    {
      "cell_type": "markdown",
      "source": [
        " Visualizing proportion of booking cancellations vis a vis bookings"
      ],
      "metadata": {
        "id": "69p8A_lTUrey"
      }
    },
    {
      "cell_type": "code",
      "source": [
        "# Chart - 10 visualization code\n",
        "# taking different values of months count into account.\n",
        "dataset_copy= dataset.copy()\n",
        "dataset_copy['no_of_bookings']= 1\n",
        "dataset_copy.loc[(dataset_copy.arrival_date_month== 'July')| (dataset_copy.arrival_date_month== 'August'),'no_of_bookings']/=3\n",
        "dataset_copy.loc[~((dataset_copy.arrival_date_month== 'July')| (dataset_copy.arrival_date_month== 'August')),'no_of_bookings']/=2\n",
        "dataset_copy.sample(100)\n",
        "\n"
      ],
      "metadata": {
        "id": "GM7a4YP4phqQ"
      },
      "execution_count": null,
      "outputs": []
    },
    {
      "cell_type": "code",
      "source": [
        "month_sorted = ['January','February','March','April','May','June','July','August','September','October','November','December']\n",
        "plt.title(\"Monthly bookings\")\n",
        "sns.barplot(x= 'arrival_date_month', y= 'no_of_bookings', hue= dataset_copy['hotel'], estimator= sum, data= dataset_copy)\n",
        "plt.xticks(rotation = 90)\n",
        "plt.show()"
      ],
      "metadata": {
        "id": "0BtSQOukYvVF"
      },
      "execution_count": null,
      "outputs": []
    },
    {
      "cell_type": "markdown",
      "source": [
        "##### 1. Why did you pick the specific chart?"
      ],
      "metadata": {
        "id": "1M8mcRywphqQ"
      }
    },
    {
      "cell_type": "markdown",
      "source": [
        "Answer Here."
      ],
      "metadata": {
        "id": "8agQvks0phqQ"
      }
    },
    {
      "cell_type": "markdown",
      "source": [
        "##### 2. What is/are the insight(s) found from the chart?"
      ],
      "metadata": {
        "id": "tgIPom80phqQ"
      }
    },
    {
      "cell_type": "markdown",
      "source": [
        "Answer Here"
      ],
      "metadata": {
        "id": "Qp13pnNzphqQ"
      }
    },
    {
      "cell_type": "markdown",
      "source": [
        "##### 3. Will the gained insights help creating a positive business impact?\n",
        "Are there any insights that lead to negative growth? Justify with specific reason."
      ],
      "metadata": {
        "id": "JMzcOPDDphqR"
      }
    },
    {
      "cell_type": "markdown",
      "source": [
        "Answer Here"
      ],
      "metadata": {
        "id": "R4Ka1PC2phqR"
      }
    },
    {
      "cell_type": "markdown",
      "source": [
        "#### Chart - 11"
      ],
      "metadata": {
        "id": "x-EpHcCOp1ci"
      }
    },
    {
      "cell_type": "markdown",
      "source": [
        "**According to top 5 country which has the highest ratio of traveling with children:**"
      ],
      "metadata": {
        "id": "NGhWLApPDbwf"
      }
    },
    {
      "cell_type": "code",
      "source": [
        "# Chart - 11 visualization code\n",
        "\n",
        "top5_child = dataset[\"country\"].isin([\"POL\", \"USA\", \"SWE\", \"BRA\", \"CHE\"])\n",
        "top5_child_meal= dataset[top5_child][[\"country\", \"meal\"]]\n",
        "top5_child_meal\n",
        "\n",
        "meal_type= top5_child_meal[\"meal\"].value_counts()\n",
        "meal_type = pd.DataFrame(meal_type)\n",
        "meal_type = meal_type.reset_index()\n",
        "meal_type\n",
        "\n",
        "sns.set(rc={'figure.figsize':(11, 7)})\n",
        "sns.pointplot(x= \"meal\", y= \"count\", data= meal_type)\n",
        "plt.xlabel(\"\\nMeal Types\")\n",
        "plt.ylabel(\"Number of Meal Type\\n\")\n",
        "plt.title(\"Distribution of Meal Type based on Top 5 Country which has the highest ratio of traveling with children\\n\", fontsize= 15)\n",
        "plt.xticks(rotation=0)\n",
        "plt.show()\n"
      ],
      "metadata": {
        "id": "mAQTIvtqp1cj"
      },
      "execution_count": null,
      "outputs": []
    },
    {
      "cell_type": "markdown",
      "source": [
        "##### 1. Why did you pick the specific chart?"
      ],
      "metadata": {
        "id": "X_VqEhTip1ck"
      }
    },
    {
      "cell_type": "markdown",
      "source": [
        "poinplot ae used to track changes over different catagories"
      ],
      "metadata": {
        "id": "-vsMzt_np1ck"
      }
    },
    {
      "cell_type": "markdown",
      "source": [
        "##### 2. What is/are the insight(s) found from the chart?"
      ],
      "metadata": {
        "id": "8zGJKyg5p1ck"
      }
    },
    {
      "cell_type": "markdown",
      "source": [
        "Answer Here"
      ],
      "metadata": {
        "id": "ZYdMsrqVp1ck"
      }
    },
    {
      "cell_type": "markdown",
      "source": [
        "##### 3. Will the gained insights help creating a positive business impact?\n",
        "Are there any insights that lead to negative growth? Justify with specific reason."
      ],
      "metadata": {
        "id": "PVzmfK_Ep1ck"
      }
    },
    {
      "cell_type": "markdown",
      "source": [
        "Answer Here"
      ],
      "metadata": {
        "id": "druuKYZpp1ck"
      }
    },
    {
      "cell_type": "markdown",
      "source": [
        "#### Chart - 12"
      ],
      "metadata": {
        "id": "n3dbpmDWp1ck"
      }
    },
    {
      "cell_type": "markdown",
      "source": [
        "**customer types number of booking preffered**"
      ],
      "metadata": {
        "id": "ELnUlRSOEcny"
      }
    },
    {
      "cell_type": "code",
      "source": [
        "# Chart - 12 visualization code\n",
        "\n",
        "# Sample data - number of bookings for each customer type\n",
        "customer_types_data = {\n",
        "    'Leisure': 200,\n",
        "    'Business': 150,\n",
        "    'Family': 100,\n",
        "    'Solo': 80,\n",
        "    'Others': 50\n",
        "}\n",
        "\n",
        "# Extract customer types and number of bookings\n",
        "customer_types = list(customer_types_data.keys())\n",
        "booking_counts = list(customer_types_data.values())\n",
        "\n",
        "# Plotting\n",
        "plt.figure(figsize=(8, 6))\n",
        "plt.bar(customer_types, booking_counts, color='skyblue')\n",
        "plt.xlabel('Customer Type')\n",
        "plt.ylabel('Number of Bookings')\n",
        "plt.title('Distribution of Customer Types')\n",
        "plt.xticks(rotation=45)  # Rotate x-axis labels for better readability\n",
        "plt.show()\n"
      ],
      "metadata": {
        "id": "bwevp1tKp1ck"
      },
      "execution_count": null,
      "outputs": []
    },
    {
      "cell_type": "markdown",
      "source": [
        "##### 1. Why did you pick the specific chart?"
      ],
      "metadata": {
        "id": "ylSl6qgtp1ck"
      }
    },
    {
      "cell_type": "markdown",
      "source": [
        "Answer Here."
      ],
      "metadata": {
        "id": "m2xqNkiQp1ck"
      }
    },
    {
      "cell_type": "markdown",
      "source": [
        "##### 2. What is/are the insight(s) found from the chart?"
      ],
      "metadata": {
        "id": "ZWILFDl5p1ck"
      }
    },
    {
      "cell_type": "markdown",
      "source": [
        "we can see that Transient customer type has most number of booking"
      ],
      "metadata": {
        "id": "x-lUsV2mp1ck"
      }
    },
    {
      "cell_type": "markdown",
      "source": [
        "##### 3. Will the gained insights help creating a positive business impact?\n",
        "Are there any insights that lead to negative growth? Justify with specific reason."
      ],
      "metadata": {
        "id": "M7G43BXep1ck"
      }
    },
    {
      "cell_type": "markdown",
      "source": [
        "Hotel can run promotional offer to increase the number of bookings over other categories such as hotel could offer discouts for groups"
      ],
      "metadata": {
        "id": "5wwDJXsLp1cl"
      }
    },
    {
      "cell_type": "markdown",
      "source": [
        "#### Chart - 13"
      ],
      "metadata": {
        "id": "Ag9LCva-p1cl"
      }
    },
    {
      "cell_type": "markdown",
      "source": [
        "**Age-group Analysis**"
      ],
      "metadata": {
        "id": "DZS6Jsx5K2LT"
      }
    },
    {
      "cell_type": "code",
      "source": [],
      "metadata": {
        "id": "DcB1Wtom6Voq"
      },
      "execution_count": null,
      "outputs": []
    },
    {
      "cell_type": "code",
      "source": [
        "# Chart - 13 visualization code\n",
        "age_cat= dataset[[\"adults\", \"children\", \"babies\"]].agg(sum)\n",
        "sum_age_cat= age_cat.sum()\n",
        "rate_age= age_cat / sum_age_cat*100\n",
        "\n",
        "rate_age = pd.DataFrame(rate_age)\n",
        "rate_age = rate_age.reset_index()\n",
        "ra_name = rate_age[\"index\"].values\n",
        "ra_value = rate_age[0].values\n",
        "\n",
        "plt.figure(figsize=(8,8))\n",
        "#plt.pie(ra_value, labels=ra_name, autopct=absolute_value, pctdistance=0.85, startangle=0, shadow=True)\n",
        "plt.pie(ra_value, labels=ra_name, autopct='%1.1f%%', pctdistance=0.85, startangle=0, shadow=True)\n",
        "\n",
        "fig=plt.gcf()\n",
        "fig.gca()\n",
        "plt.axis('equal')\n",
        "plt.tight_layout()\n",
        "plt.title(\"Distribution of Age-Group\", fontsize=15)\n",
        "plt.show()"
      ],
      "metadata": {
        "id": "EUfxeq9-p1cl"
      },
      "execution_count": null,
      "outputs": []
    },
    {
      "cell_type": "markdown",
      "source": [
        "##### 1. Why did you pick the specific chart?"
      ],
      "metadata": {
        "id": "E6MkPsBcp1cl"
      }
    },
    {
      "cell_type": "markdown",
      "source": [
        "Answer Here."
      ],
      "metadata": {
        "id": "V22bRsFWp1cl"
      }
    },
    {
      "cell_type": "markdown",
      "source": [
        "##### 2. What is/are the insight(s) found from the chart?"
      ],
      "metadata": {
        "id": "2cELzS2fp1cl"
      }
    },
    {
      "cell_type": "markdown",
      "source": [
        "Answer Here"
      ],
      "metadata": {
        "id": "ozQPc2_Ip1cl"
      }
    },
    {
      "cell_type": "markdown",
      "source": [
        "##### 3. Will the gained insights help creating a positive business impact?\n",
        "Are there any insights that lead to negative growth? Justify with specific reason."
      ],
      "metadata": {
        "id": "3MPXvC8up1cl"
      }
    },
    {
      "cell_type": "markdown",
      "source": [
        "Answer Here"
      ],
      "metadata": {
        "id": "GL8l1tdLp1cl"
      }
    },
    {
      "cell_type": "markdown",
      "source": [
        "#### Chart - 14 - Correlation Heatmap"
      ],
      "metadata": {
        "id": "NC_X3p0fY2L0"
      }
    },
    {
      "cell_type": "code",
      "source": [
        "# Import Library\n",
        "# Plot the heatmap\n",
        "numeric_cols = dataset.select_dtypes(include=['int64', 'float64']).columns\n",
        "correlation = dataset[numeric_cols].corr()\n",
        "plt.figure(figsize=(16,10))\n",
        "sns.heatmap(correlation, annot=True, cmap='coolwarm')\n",
        "plt.title('correlation heatmap', fontsize=16)\n",
        "plt.show()"
      ],
      "metadata": {
        "id": "xyC9zolEZNRQ"
      },
      "execution_count": null,
      "outputs": []
    },
    {
      "cell_type": "markdown",
      "source": [
        "##### 1. Why did you pick the specific chart?"
      ],
      "metadata": {
        "id": "UV0SzAkaZNRQ"
      }
    },
    {
      "cell_type": "markdown",
      "source": [
        "correlation heatmaps was used to find potential relationships between variables and to understand the strengthof these relationships."
      ],
      "metadata": {
        "id": "DVPuT8LYZNRQ"
      }
    },
    {
      "cell_type": "markdown",
      "source": [
        "##### 2. What is/are the insight(s) found from the chart?"
      ],
      "metadata": {
        "id": "YPEH6qLeZNRQ"
      }
    },
    {
      "cell_type": "markdown",
      "source": [
        "\n",
        "1.  lead_time and total_stay is positively corelated that means if customers stay more than the lead time increases.\n",
        "2.  adult,childrens and babies are correlated to each other. That means more the people more will be adr.\n",
        "\n"
      ],
      "metadata": {
        "id": "bfSqtnDqZNRR"
      }
    },
    {
      "cell_type": "markdown",
      "source": [
        " 3. is_repeated guest and previous bookings not canceled has strong corelation. That means repeated guests dont cancel their bookings."
      ],
      "metadata": {
        "id": "W0pLVTeSalJk"
      }
    },
    {
      "cell_type": "markdown",
      "source": [
        "#### Chart - 15 - Pair Plot"
      ],
      "metadata": {
        "id": "q29F0dvdveiT"
      }
    },
    {
      "cell_type": "code",
      "source": [
        "# Pair Plot visualization code\n",
        "\n",
        "pairplot = sns.pairplot(dataset, hue = 'is_canceled')\n",
        "\n",
        "plt.show()\n",
        "\n",
        "\n",
        "\n"
      ],
      "metadata": {
        "id": "o58-TEIhveiU"
      },
      "execution_count": null,
      "outputs": []
    },
    {
      "cell_type": "markdown",
      "source": [
        "##### 1. Why did you pick the specific chart?"
      ],
      "metadata": {
        "id": "EXh0U9oCveiU"
      }
    },
    {
      "cell_type": "markdown",
      "source": [
        "A pairs plot allows us to see both distribution of single variables .\n",
        "we can see the relationship between all the columns with each other in above chart"
      ],
      "metadata": {
        "id": "eMmPjTByveiU"
      }
    },
    {
      "cell_type": "markdown",
      "source": [
        "##### 2. What is/are the insight(s) found from the chart?"
      ],
      "metadata": {
        "id": "22aHeOlLveiV"
      }
    },
    {
      "cell_type": "markdown",
      "source": [
        "From the above pair plot we can see that if cancelled increases then total stay also decreases ..\n",
        "\n",
        "As the total numbers of people increases ADR also increases. Thus adr and total people are directly proportional to each other"
      ],
      "metadata": {
        "id": "uPQ8RGwHveiV"
      }
    },
    {
      "cell_type": "markdown",
      "source": [
        "## **5. Solution to Business Objective**"
      ],
      "metadata": {
        "id": "JcMwzZxoAimU"
      }
    },
    {
      "cell_type": "markdown",
      "source": [],
      "metadata": {
        "id": "M0dFywtuvHJ8"
      }
    },
    {
      "cell_type": "markdown",
      "source": [
        "#### What do you suggest the client to achieve Business Objective ?\n",
        "Explain Briefly."
      ],
      "metadata": {
        "id": "8G2x9gOozGDZ"
      }
    },
    {
      "cell_type": "markdown",
      "source": [
        "\n",
        "    Hotel booking EDA project mein business objective ka solution kuch is tarah hoga.\n",
        "\n",
        "\n",
        "  Optimizing Pricing Strategy*: By analyzing the data, you can help hotels optimize their pricing strategies. Understanding price sensitivity and demand patterns can assist in setting competitive prices to attract more customers while maximizing revenue.\n",
        "\n",
        "2. *Enhancing Customer Experience*: Through the project, you can identify customer preferences, such as room types, amenities, or services. Hotels can use this information to personalize the customer experience, leading to higher satisfaction and loyalty.\n",
        "\n",
        "3. *Reducing Cancellations*: Analyzing cancellation rates and identifying the reasons behind them can help hotels implement strategies to reduce cancellations. This could involve offering flexible booking options or addressing common issues that lead to cancellations.\n",
        "\n",
        "4. *Improving Marketing Strategies*: Insights from the project can be used to tailor marketing campaigns based on seasonal trends, popular booking channels, and customer preferences. This targeted approach can lead to more effective marketing efforts and increased bookings.\n",
        "\n",
        "5. *Implementing Recommendation Systems*: Developing recommendation systems based on customer behavior and preferences can enhance cross-selling opportunities and improve the overall booking experience, ultimately increasing revenue for hotels.\n",
        "\n",
        "By focusing on these business objectives in the Hotel Booking EDA project, you can provide actionable recommendations to hotels to drive growth, improve operational efficiency, and enhance customer satisfaction."
      ],
      "metadata": {
        "id": "pASKb0qOza21"
      }
    },
    {
      "cell_type": "markdown",
      "source": [
        "# **Conclusion**"
      ],
      "metadata": {
        "id": "gCX9965dhzqZ"
      }
    },
    {
      "cell_type": "markdown",
      "source": [
        "Seasonal Trends*: You may have observed that hotel bookings vary based on the season. For example, there might be more bookings during holidays or specific months. Understanding these trends can help hotels plan their marketing strategies accordingly.\n"
      ],
      "metadata": {
        "id": "VaURnWcAt9Ly"
      }
    },
    {
      "cell_type": "markdown",
      "source": [
        "Cancellation Rates*: Examining the cancellation rates can provide insights into the factors influencing cancellations. Hotels can work on reducing cancellations by addressing these factors proactively.\n"
      ],
      "metadata": {
        "id": "bYGA_EMJt-_D"
      }
    },
    {
      "cell_type": "markdown",
      "source": [
        "*Price Sensitivity*: Understanding how price changes affect booking patterns can help hotels optimize their pricing strategies to attract more customers without compromising revenue.\n",
        "\n"
      ],
      "metadata": {
        "id": "MzUZ-0QXuCxR"
      }
    },
    {
      "cell_type": "markdown",
      "source": [
        "Recommendation Systems*: Implementing recommendation systems based on customer behavior and preferences can enhance the overall booking experience and increase customer satisfaction.\n"
      ],
      "metadata": {
        "id": "QMLTTwD_uNcM"
      }
    },
    {
      "cell_type": "markdown",
      "source": [
        "city hotels are the most preferred hotel type by the guests. so, we can say that city hotels are the busiest hotel in comparison to the resort hotel.\n",
        "The average ADR of city hotel is higher as compare to the resort hotels. So, it can be said that these city hotels are generating more revenue than the resort hotel.\n",
        "\n"
      ],
      "metadata": {
        "id": "Fjb1IsQkh3yE"
      }
    },
    {
      "cell_type": "markdown",
      "source": [
        "### ***Hurrah! You have successfully completed your EDA Capstone Project !!!***"
      ],
      "metadata": {
        "id": "gIfDvo9L0UH2"
      }
    }
  ]
}